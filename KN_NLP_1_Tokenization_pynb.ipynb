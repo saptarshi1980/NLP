{
  "nbformat": 4,
  "nbformat_minor": 0,
  "metadata": {
    "colab": {
      "provenance": []
    },
    "kernelspec": {
      "name": "python3",
      "display_name": "Python 3"
    },
    "language_info": {
      "name": "python"
    }
  },
  "cells": [
    {
      "cell_type": "code",
      "execution_count": null,
      "metadata": {
        "colab": {
          "base_uri": "https://localhost:8080/"
        },
        "id": "BAmItMrwkVPG",
        "outputId": "00f4c195-af45-4429-9a56-f53a40a127ce"
      },
      "outputs": [
        {
          "output_type": "stream",
          "name": "stdout",
          "text": [
            "Requirement already satisfied: nltk in /usr/local/lib/python3.10/dist-packages (3.8.1)\n",
            "Requirement already satisfied: click in /usr/local/lib/python3.10/dist-packages (from nltk) (8.1.7)\n",
            "Requirement already satisfied: joblib in /usr/local/lib/python3.10/dist-packages (from nltk) (1.4.2)\n",
            "Requirement already satisfied: regex>=2021.8.3 in /usr/local/lib/python3.10/dist-packages (from nltk) (2024.5.15)\n",
            "Requirement already satisfied: tqdm in /usr/local/lib/python3.10/dist-packages (from nltk) (4.66.5)\n"
          ]
        }
      ],
      "source": [
        "!pip install nltk"
      ]
    },
    {
      "cell_type": "code",
      "source": [
        "corpus = \"\"\" One of the landmarks of Kolkata, Victoria Memorial is a grand British-era structure built entirely of white marble.\n",
        "Constructed in the Indo-Saracenic revivalist style, using a mix of British and Mughal elements, the memorial draws influences from Islamic, Venetian, Egyptian and Deccani styles.\n",
        "The Victoria Memorial is a large marble monument on the Maidan in Central Kolkata, having its entrance on the Queen's Way.\n",
        "It was built between 1906 and 1921 by the British Raj.\n",
        "It is dedicated to the memory of Queen Victoria, the Empress of India from 1876 to 1901.\n",
        "\"\"\""
      ],
      "metadata": {
        "id": "jU6zO1S7kgzm"
      },
      "execution_count": null,
      "outputs": []
    },
    {
      "cell_type": "code",
      "source": [
        "print(corpus)"
      ],
      "metadata": {
        "colab": {
          "base_uri": "https://localhost:8080/"
        },
        "id": "24QOiNuAlAVp",
        "outputId": "4fa17655-a5e3-47b7-a353-c8d1038b4983"
      },
      "execution_count": null,
      "outputs": [
        {
          "output_type": "stream",
          "name": "stdout",
          "text": [
            " One of the landmarks of Kolkata, Victoria Memorial is a grand British-era structure built entirely of white marble. \n",
            "Constructed in the Indo-Saracenic revivalist style, using a mix of British and Mughal elements, the memorial draws influences from Islamic, Venetian, Egyptian and Deccani styles.\n",
            "The Victoria Memorial is a large marble monument on the Maidan in Central Kolkata, having its entrance on the Queen's Way. \n",
            "It was built between 1906 and 1921 by the British Raj. \n",
            "It is dedicated to the memory of Queen Victoria, the Empress of India from 1876 to 1901.\n",
            "\n"
          ]
        }
      ]
    },
    {
      "cell_type": "markdown",
      "source": [
        "# Tokeniztion (Sentense to Parapragh)"
      ],
      "metadata": {
        "id": "1j9NS51qlI99"
      }
    },
    {
      "cell_type": "code",
      "source": [
        "import nltk\n",
        "nltk.download('punkt')\n",
        "from nltk.tokenize import sent_tokenize"
      ],
      "metadata": {
        "colab": {
          "base_uri": "https://localhost:8080/"
        },
        "id": "Td9SkZwYlCsK",
        "outputId": "0ce26afa-14eb-4ebd-e7a3-a07c1025f7d1"
      },
      "execution_count": null,
      "outputs": [
        {
          "output_type": "stream",
          "name": "stderr",
          "text": [
            "[nltk_data] Downloading package punkt to /root/nltk_data...\n",
            "[nltk_data]   Unzipping tokenizers/punkt.zip.\n"
          ]
        }
      ]
    },
    {
      "cell_type": "code",
      "source": [
        "documents = sent_tokenize(corpus)"
      ],
      "metadata": {
        "id": "z9orKCQhlzlZ"
      },
      "execution_count": null,
      "outputs": []
    },
    {
      "cell_type": "code",
      "source": [
        "print(type(documents))"
      ],
      "metadata": {
        "colab": {
          "base_uri": "https://localhost:8080/"
        },
        "id": "8levShHql1pa",
        "outputId": "c53687b1-8697-4985-a1c5-33d84ebb177e"
      },
      "execution_count": null,
      "outputs": [
        {
          "output_type": "stream",
          "name": "stdout",
          "text": [
            "<class 'list'>\n"
          ]
        }
      ]
    },
    {
      "cell_type": "code",
      "source": [
        "print(documents)"
      ],
      "metadata": {
        "colab": {
          "base_uri": "https://localhost:8080/"
        },
        "id": "yge9hpX3mHk2",
        "outputId": "a5eb518b-7cd2-470b-cefa-62fd19d76cc2"
      },
      "execution_count": null,
      "outputs": [
        {
          "output_type": "stream",
          "name": "stdout",
          "text": [
            "[' One of the landmarks of Kolkata, Victoria Memorial is a grand British-era structure built entirely of white marble.', 'Constructed in the Indo-Saracenic revivalist style, using a mix of British and Mughal elements, the memorial draws influences from Islamic, Venetian, Egyptian and Deccani styles.', \"The Victoria Memorial is a large marble monument on the Maidan in Central Kolkata, having its entrance on the Queen's Way.\", 'It was built between 1906 and 1921 by the British Raj.', 'It is dedicated to the memory of Queen Victoria, the Empress of India from 1876 to 1901.']\n"
          ]
        }
      ]
    },
    {
      "cell_type": "code",
      "source": [
        "documents"
      ],
      "metadata": {
        "colab": {
          "base_uri": "https://localhost:8080/"
        },
        "id": "1isWNceamJm7",
        "outputId": "00f54b81-42a9-400d-e157-6aa68deee6e3"
      },
      "execution_count": null,
      "outputs": [
        {
          "output_type": "execute_result",
          "data": {
            "text/plain": [
              "[' One of the landmarks of Kolkata, Victoria Memorial is a grand British-era structure built entirely of white marble.',\n",
              " 'Constructed in the Indo-Saracenic revivalist style, using a mix of British and Mughal elements, the memorial draws influences from Islamic, Venetian, Egyptian and Deccani styles.',\n",
              " \"The Victoria Memorial is a large marble monument on the Maidan in Central Kolkata, having its entrance on the Queen's Way.\",\n",
              " 'It was built between 1906 and 1921 by the British Raj.',\n",
              " 'It is dedicated to the memory of Queen Victoria, the Empress of India from 1876 to 1901.']"
            ]
          },
          "metadata": {},
          "execution_count": 10
        }
      ]
    },
    {
      "cell_type": "code",
      "source": [
        "for document in documents:\n",
        "  print(document)"
      ],
      "metadata": {
        "colab": {
          "base_uri": "https://localhost:8080/"
        },
        "id": "05E8xHrjmL62",
        "outputId": "639f1723-51ad-4700-a26c-cabcc44ae240"
      },
      "execution_count": null,
      "outputs": [
        {
          "output_type": "stream",
          "name": "stdout",
          "text": [
            " One of the landmarks of Kolkata, Victoria Memorial is a grand British-era structure built entirely of white marble.\n",
            "Constructed in the Indo-Saracenic revivalist style, using a mix of British and Mughal elements, the memorial draws influences from Islamic, Venetian, Egyptian and Deccani styles.\n",
            "The Victoria Memorial is a large marble monument on the Maidan in Central Kolkata, having its entrance on the Queen's Way.\n",
            "It was built between 1906 and 1921 by the British Raj.\n",
            "It is dedicated to the memory of Queen Victoria, the Empress of India from 1876 to 1901.\n"
          ]
        }
      ]
    },
    {
      "cell_type": "markdown",
      "source": [
        "# Tokenization\n",
        "# Corpus(paragraph) to Words\n",
        "# documents(Sensentences) to word"
      ],
      "metadata": {
        "id": "MJGylSV9mgF6"
      }
    },
    {
      "cell_type": "code",
      "source": [
        "from nltk.tokenize import word_tokenize"
      ],
      "metadata": {
        "id": "l2fqMSkEmU4t"
      },
      "execution_count": null,
      "outputs": []
    },
    {
      "cell_type": "code",
      "source": [
        "words = word_tokenize(corpus)"
      ],
      "metadata": {
        "id": "DzLFLrsVm1s6"
      },
      "execution_count": null,
      "outputs": []
    },
    {
      "cell_type": "code",
      "source": [
        "for word in words:\n",
        "  print(word)"
      ],
      "metadata": {
        "colab": {
          "base_uri": "https://localhost:8080/"
        },
        "id": "JnUs-vrlm3vW",
        "outputId": "c347d4f9-3ae4-4345-bc61-9a69bece27de"
      },
      "execution_count": null,
      "outputs": [
        {
          "output_type": "stream",
          "name": "stdout",
          "text": [
            "One\n",
            "of\n",
            "the\n",
            "landmarks\n",
            "of\n",
            "Kolkata\n",
            ",\n",
            "Victoria\n",
            "Memorial\n",
            "is\n",
            "a\n",
            "grand\n",
            "British-era\n",
            "structure\n",
            "built\n",
            "entirely\n",
            "of\n",
            "white\n",
            "marble\n",
            ".\n",
            "Constructed\n",
            "in\n",
            "the\n",
            "Indo-Saracenic\n",
            "revivalist\n",
            "style\n",
            ",\n",
            "using\n",
            "a\n",
            "mix\n",
            "of\n",
            "British\n",
            "and\n",
            "Mughal\n",
            "elements\n",
            ",\n",
            "the\n",
            "memorial\n",
            "draws\n",
            "influences\n",
            "from\n",
            "Islamic\n",
            ",\n",
            "Venetian\n",
            ",\n",
            "Egyptian\n",
            "and\n",
            "Deccani\n",
            "styles\n",
            ".\n",
            "The\n",
            "Victoria\n",
            "Memorial\n",
            "is\n",
            "a\n",
            "large\n",
            "marble\n",
            "monument\n",
            "on\n",
            "the\n",
            "Maidan\n",
            "in\n",
            "Central\n",
            "Kolkata\n",
            ",\n",
            "having\n",
            "its\n",
            "entrance\n",
            "on\n",
            "the\n",
            "Queen\n",
            "'s\n",
            "Way\n",
            ".\n",
            "It\n",
            "was\n",
            "built\n",
            "between\n",
            "1906\n",
            "and\n",
            "1921\n",
            "by\n",
            "the\n",
            "British\n",
            "Raj\n",
            ".\n",
            "It\n",
            "is\n",
            "dedicated\n",
            "to\n",
            "the\n",
            "memory\n",
            "of\n",
            "Queen\n",
            "Victoria\n",
            ",\n",
            "the\n",
            "Empress\n",
            "of\n",
            "India\n",
            "from\n",
            "1876\n",
            "to\n",
            "1901\n",
            ".\n"
          ]
        }
      ]
    },
    {
      "cell_type": "code",
      "source": [
        "for document in documents:\n",
        "  print(word_tokenize(document))"
      ],
      "metadata": {
        "colab": {
          "base_uri": "https://localhost:8080/"
        },
        "id": "XPjOeeymm5A3",
        "outputId": "f149a875-876a-460e-f736-25e53f3e21a9"
      },
      "execution_count": null,
      "outputs": [
        {
          "output_type": "stream",
          "name": "stdout",
          "text": [
            "['One', 'of', 'the', 'landmarks', 'of', 'Kolkata', ',', 'Victoria', 'Memorial', 'is', 'a', 'grand', 'British-era', 'structure', 'built', 'entirely', 'of', 'white', 'marble', '.']\n",
            "['Constructed', 'in', 'the', 'Indo-Saracenic', 'revivalist', 'style', ',', 'using', 'a', 'mix', 'of', 'British', 'and', 'Mughal', 'elements', ',', 'the', 'memorial', 'draws', 'influences', 'from', 'Islamic', ',', 'Venetian', ',', 'Egyptian', 'and', 'Deccani', 'styles', '.']\n",
            "['The', 'Victoria', 'Memorial', 'is', 'a', 'large', 'marble', 'monument', 'on', 'the', 'Maidan', 'in', 'Central', 'Kolkata', ',', 'having', 'its', 'entrance', 'on', 'the', 'Queen', \"'s\", 'Way', '.']\n",
            "['It', 'was', 'built', 'between', '1906', 'and', '1921', 'by', 'the', 'British', 'Raj', '.']\n",
            "['It', 'is', 'dedicated', 'to', 'the', 'memory', 'of', 'Queen', 'Victoria', ',', 'the', 'Empress', 'of', 'India', 'from', '1876', 'to', '1901', '.']\n"
          ]
        }
      ]
    },
    {
      "cell_type": "code",
      "source": [
        "from nltk.tokenize import wordpunct_tokenize"
      ],
      "metadata": {
        "id": "mWGFtoVVnfyb"
      },
      "execution_count": null,
      "outputs": []
    },
    {
      "cell_type": "code",
      "source": [
        "word_tokenize(corpus)"
      ],
      "metadata": {
        "colab": {
          "base_uri": "https://localhost:8080/"
        },
        "id": "GTEi0GZho6Jj",
        "outputId": "17727758-03c1-40f8-ccf1-0e0fc6f083fc"
      },
      "execution_count": null,
      "outputs": [
        {
          "output_type": "execute_result",
          "data": {
            "text/plain": [
              "['One',\n",
              " 'of',\n",
              " 'the',\n",
              " 'landmarks',\n",
              " 'of',\n",
              " 'Kolkata',\n",
              " ',',\n",
              " 'Victoria',\n",
              " 'Memorial',\n",
              " 'is',\n",
              " 'a',\n",
              " 'grand',\n",
              " 'British-era',\n",
              " 'structure',\n",
              " 'built',\n",
              " 'entirely',\n",
              " 'of',\n",
              " 'white',\n",
              " 'marble',\n",
              " '.',\n",
              " 'Constructed',\n",
              " 'in',\n",
              " 'the',\n",
              " 'Indo-Saracenic',\n",
              " 'revivalist',\n",
              " 'style',\n",
              " ',',\n",
              " 'using',\n",
              " 'a',\n",
              " 'mix',\n",
              " 'of',\n",
              " 'British',\n",
              " 'and',\n",
              " 'Mughal',\n",
              " 'elements',\n",
              " ',',\n",
              " 'the',\n",
              " 'memorial',\n",
              " 'draws',\n",
              " 'influences',\n",
              " 'from',\n",
              " 'Islamic',\n",
              " ',',\n",
              " 'Venetian',\n",
              " ',',\n",
              " 'Egyptian',\n",
              " 'and',\n",
              " 'Deccani',\n",
              " 'styles',\n",
              " '.',\n",
              " 'The',\n",
              " 'Victoria',\n",
              " 'Memorial',\n",
              " 'is',\n",
              " 'a',\n",
              " 'large',\n",
              " 'marble',\n",
              " 'monument',\n",
              " 'on',\n",
              " 'the',\n",
              " 'Maidan',\n",
              " 'in',\n",
              " 'Central',\n",
              " 'Kolkata',\n",
              " ',',\n",
              " 'having',\n",
              " 'its',\n",
              " 'entrance',\n",
              " 'on',\n",
              " 'the',\n",
              " 'Queen',\n",
              " \"'s\",\n",
              " 'Way',\n",
              " '.',\n",
              " 'It',\n",
              " 'was',\n",
              " 'built',\n",
              " 'between',\n",
              " '1906',\n",
              " 'and',\n",
              " '1921',\n",
              " 'by',\n",
              " 'the',\n",
              " 'British',\n",
              " 'Raj',\n",
              " '.',\n",
              " 'It',\n",
              " 'is',\n",
              " 'dedicated',\n",
              " 'to',\n",
              " 'the',\n",
              " 'memory',\n",
              " 'of',\n",
              " 'Queen',\n",
              " 'Victoria',\n",
              " ',',\n",
              " 'the',\n",
              " 'Empress',\n",
              " 'of',\n",
              " 'India',\n",
              " 'from',\n",
              " '1876',\n",
              " 'to',\n",
              " '1901',\n",
              " '.']"
            ]
          },
          "metadata": {},
          "execution_count": 18
        }
      ]
    },
    {
      "cell_type": "code",
      "source": [
        "from nltk.tokenize import TreebankWordTokenizer"
      ],
      "metadata": {
        "id": "iTc7bdFGo8p_"
      },
      "execution_count": null,
      "outputs": []
    },
    {
      "cell_type": "markdown",
      "source": [
        "# In TreebankWordTokenizer() the full stop is considered to be part of the word except the last full stop of the corpus."
      ],
      "metadata": {
        "id": "no8azJMhpnbW"
      }
    },
    {
      "cell_type": "code",
      "source": [
        "tokenize = TreebankWordTokenizer()\n",
        "tokenize.tokenize(corpus)"
      ],
      "metadata": {
        "colab": {
          "base_uri": "https://localhost:8080/"
        },
        "id": "nfR8cCuCpUwY",
        "outputId": "8ad62f81-ef91-4434-f3cb-fa2c4ad12527"
      },
      "execution_count": null,
      "outputs": [
        {
          "output_type": "execute_result",
          "data": {
            "text/plain": [
              "['One',\n",
              " 'of',\n",
              " 'the',\n",
              " 'landmarks',\n",
              " 'of',\n",
              " 'Kolkata',\n",
              " ',',\n",
              " 'Victoria',\n",
              " 'Memorial',\n",
              " 'is',\n",
              " 'a',\n",
              " 'grand',\n",
              " 'British-era',\n",
              " 'structure',\n",
              " 'built',\n",
              " 'entirely',\n",
              " 'of',\n",
              " 'white',\n",
              " 'marble.',\n",
              " 'Constructed',\n",
              " 'in',\n",
              " 'the',\n",
              " 'Indo-Saracenic',\n",
              " 'revivalist',\n",
              " 'style',\n",
              " ',',\n",
              " 'using',\n",
              " 'a',\n",
              " 'mix',\n",
              " 'of',\n",
              " 'British',\n",
              " 'and',\n",
              " 'Mughal',\n",
              " 'elements',\n",
              " ',',\n",
              " 'the',\n",
              " 'memorial',\n",
              " 'draws',\n",
              " 'influences',\n",
              " 'from',\n",
              " 'Islamic',\n",
              " ',',\n",
              " 'Venetian',\n",
              " ',',\n",
              " 'Egyptian',\n",
              " 'and',\n",
              " 'Deccani',\n",
              " 'styles.',\n",
              " 'The',\n",
              " 'Victoria',\n",
              " 'Memorial',\n",
              " 'is',\n",
              " 'a',\n",
              " 'large',\n",
              " 'marble',\n",
              " 'monument',\n",
              " 'on',\n",
              " 'the',\n",
              " 'Maidan',\n",
              " 'in',\n",
              " 'Central',\n",
              " 'Kolkata',\n",
              " ',',\n",
              " 'having',\n",
              " 'its',\n",
              " 'entrance',\n",
              " 'on',\n",
              " 'the',\n",
              " 'Queen',\n",
              " \"'s\",\n",
              " 'Way.',\n",
              " 'It',\n",
              " 'was',\n",
              " 'built',\n",
              " 'between',\n",
              " '1906',\n",
              " 'and',\n",
              " '1921',\n",
              " 'by',\n",
              " 'the',\n",
              " 'British',\n",
              " 'Raj.',\n",
              " 'It',\n",
              " 'is',\n",
              " 'dedicated',\n",
              " 'to',\n",
              " 'the',\n",
              " 'memory',\n",
              " 'of',\n",
              " 'Queen',\n",
              " 'Victoria',\n",
              " ',',\n",
              " 'the',\n",
              " 'Empress',\n",
              " 'of',\n",
              " 'India',\n",
              " 'from',\n",
              " '1876',\n",
              " 'to',\n",
              " '1901',\n",
              " '.']"
            ]
          },
          "metadata": {},
          "execution_count": 20
        }
      ]
    },
    {
      "cell_type": "code",
      "source": [
        "! pip install -U spacy\n",
        "python -m spacy download en_core_web_sm"
      ],
      "metadata": {
        "colab": {
          "base_uri": "https://localhost:8080/"
        },
        "id": "s_3FpCcTqLkR",
        "outputId": "d3220806-13ed-4ac9-c8d8-258d5bc053a9"
      },
      "execution_count": null,
      "outputs": [
        {
          "output_type": "stream",
          "name": "stdout",
          "text": [
            "Requirement already satisfied: spacy in /usr/local/lib/python3.10/dist-packages (3.7.5)\n",
            "Requirement already satisfied: spacy-legacy<3.1.0,>=3.0.11 in /usr/local/lib/python3.10/dist-packages (from spacy) (3.0.12)\n",
            "Requirement already satisfied: spacy-loggers<2.0.0,>=1.0.0 in /usr/local/lib/python3.10/dist-packages (from spacy) (1.0.5)\n",
            "Requirement already satisfied: murmurhash<1.1.0,>=0.28.0 in /usr/local/lib/python3.10/dist-packages (from spacy) (1.0.10)\n",
            "Requirement already satisfied: cymem<2.1.0,>=2.0.2 in /usr/local/lib/python3.10/dist-packages (from spacy) (2.0.8)\n",
            "Requirement already satisfied: preshed<3.1.0,>=3.0.2 in /usr/local/lib/python3.10/dist-packages (from spacy) (3.0.9)\n",
            "Requirement already satisfied: thinc<8.3.0,>=8.2.2 in /usr/local/lib/python3.10/dist-packages (from spacy) (8.2.5)\n",
            "Requirement already satisfied: wasabi<1.2.0,>=0.9.1 in /usr/local/lib/python3.10/dist-packages (from spacy) (1.1.3)\n",
            "Requirement already satisfied: srsly<3.0.0,>=2.4.3 in /usr/local/lib/python3.10/dist-packages (from spacy) (2.4.8)\n",
            "Requirement already satisfied: catalogue<2.1.0,>=2.0.6 in /usr/local/lib/python3.10/dist-packages (from spacy) (2.0.10)\n",
            "Requirement already satisfied: weasel<0.5.0,>=0.1.0 in /usr/local/lib/python3.10/dist-packages (from spacy) (0.4.1)\n",
            "Requirement already satisfied: typer<1.0.0,>=0.3.0 in /usr/local/lib/python3.10/dist-packages (from spacy) (0.12.3)\n",
            "Requirement already satisfied: tqdm<5.0.0,>=4.38.0 in /usr/local/lib/python3.10/dist-packages (from spacy) (4.66.5)\n",
            "Requirement already satisfied: requests<3.0.0,>=2.13.0 in /usr/local/lib/python3.10/dist-packages (from spacy) (2.32.3)\n",
            "Requirement already satisfied: pydantic!=1.8,!=1.8.1,<3.0.0,>=1.7.4 in /usr/local/lib/python3.10/dist-packages (from spacy) (2.8.2)\n",
            "Requirement already satisfied: jinja2 in /usr/local/lib/python3.10/dist-packages (from spacy) (3.1.4)\n",
            "Requirement already satisfied: setuptools in /usr/local/lib/python3.10/dist-packages (from spacy) (71.0.4)\n",
            "Requirement already satisfied: packaging>=20.0 in /usr/local/lib/python3.10/dist-packages (from spacy) (24.1)\n",
            "Requirement already satisfied: langcodes<4.0.0,>=3.2.0 in /usr/local/lib/python3.10/dist-packages (from spacy) (3.4.0)\n",
            "Requirement already satisfied: numpy>=1.19.0 in /usr/local/lib/python3.10/dist-packages (from spacy) (1.26.4)\n",
            "Requirement already satisfied: language-data>=1.2 in /usr/local/lib/python3.10/dist-packages (from langcodes<4.0.0,>=3.2.0->spacy) (1.2.0)\n",
            "Requirement already satisfied: annotated-types>=0.4.0 in /usr/local/lib/python3.10/dist-packages (from pydantic!=1.8,!=1.8.1,<3.0.0,>=1.7.4->spacy) (0.7.0)\n",
            "Requirement already satisfied: pydantic-core==2.20.1 in /usr/local/lib/python3.10/dist-packages (from pydantic!=1.8,!=1.8.1,<3.0.0,>=1.7.4->spacy) (2.20.1)\n",
            "Requirement already satisfied: typing-extensions>=4.6.1 in /usr/local/lib/python3.10/dist-packages (from pydantic!=1.8,!=1.8.1,<3.0.0,>=1.7.4->spacy) (4.12.2)\n",
            "Requirement already satisfied: charset-normalizer<4,>=2 in /usr/local/lib/python3.10/dist-packages (from requests<3.0.0,>=2.13.0->spacy) (3.3.2)\n",
            "Requirement already satisfied: idna<4,>=2.5 in /usr/local/lib/python3.10/dist-packages (from requests<3.0.0,>=2.13.0->spacy) (3.7)\n",
            "Requirement already satisfied: urllib3<3,>=1.21.1 in /usr/local/lib/python3.10/dist-packages (from requests<3.0.0,>=2.13.0->spacy) (2.0.7)\n",
            "Requirement already satisfied: certifi>=2017.4.17 in /usr/local/lib/python3.10/dist-packages (from requests<3.0.0,>=2.13.0->spacy) (2024.7.4)\n",
            "Requirement already satisfied: blis<0.8.0,>=0.7.8 in /usr/local/lib/python3.10/dist-packages (from thinc<8.3.0,>=8.2.2->spacy) (0.7.11)\n",
            "Requirement already satisfied: confection<1.0.0,>=0.0.1 in /usr/local/lib/python3.10/dist-packages (from thinc<8.3.0,>=8.2.2->spacy) (0.1.5)\n",
            "Requirement already satisfied: click>=8.0.0 in /usr/local/lib/python3.10/dist-packages (from typer<1.0.0,>=0.3.0->spacy) (8.1.7)\n",
            "Requirement already satisfied: shellingham>=1.3.0 in /usr/local/lib/python3.10/dist-packages (from typer<1.0.0,>=0.3.0->spacy) (1.5.4)\n",
            "Requirement already satisfied: rich>=10.11.0 in /usr/local/lib/python3.10/dist-packages (from typer<1.0.0,>=0.3.0->spacy) (13.7.1)\n",
            "Requirement already satisfied: cloudpathlib<1.0.0,>=0.7.0 in /usr/local/lib/python3.10/dist-packages (from weasel<0.5.0,>=0.1.0->spacy) (0.18.1)\n",
            "Requirement already satisfied: smart-open<8.0.0,>=5.2.1 in /usr/local/lib/python3.10/dist-packages (from weasel<0.5.0,>=0.1.0->spacy) (7.0.4)\n",
            "Requirement already satisfied: MarkupSafe>=2.0 in /usr/local/lib/python3.10/dist-packages (from jinja2->spacy) (2.1.5)\n",
            "Requirement already satisfied: marisa-trie>=0.7.7 in /usr/local/lib/python3.10/dist-packages (from language-data>=1.2->langcodes<4.0.0,>=3.2.0->spacy) (1.2.0)\n",
            "Requirement already satisfied: markdown-it-py>=2.2.0 in /usr/local/lib/python3.10/dist-packages (from rich>=10.11.0->typer<1.0.0,>=0.3.0->spacy) (3.0.0)\n",
            "Requirement already satisfied: pygments<3.0.0,>=2.13.0 in /usr/local/lib/python3.10/dist-packages (from rich>=10.11.0->typer<1.0.0,>=0.3.0->spacy) (2.16.1)\n",
            "Requirement already satisfied: wrapt in /usr/local/lib/python3.10/dist-packages (from smart-open<8.0.0,>=5.2.1->weasel<0.5.0,>=0.1.0->spacy) (1.16.0)\n",
            "Requirement already satisfied: mdurl~=0.1 in /usr/local/lib/python3.10/dist-packages (from markdown-it-py>=2.2.0->rich>=10.11.0->typer<1.0.0,>=0.3.0->spacy) (0.1.2)\n"
          ]
        }
      ]
    },
    {
      "cell_type": "code",
      "source": [
        "!python -m spacy download en_core_web_sm"
      ],
      "metadata": {
        "colab": {
          "base_uri": "https://localhost:8080/"
        },
        "id": "U0PfnUIhqTct",
        "outputId": "19949861-0d12-4cd1-8033-8b862d8e4d33"
      },
      "execution_count": null,
      "outputs": [
        {
          "output_type": "stream",
          "name": "stdout",
          "text": [
            "Collecting en-core-web-sm==3.7.1\n",
            "  Downloading https://github.com/explosion/spacy-models/releases/download/en_core_web_sm-3.7.1/en_core_web_sm-3.7.1-py3-none-any.whl (12.8 MB)\n",
            "\u001b[2K     \u001b[90m━━━━━━━━━━━━━━━━━━━━━━━━━━━━━━━━━━━━━━━━\u001b[0m \u001b[32m12.8/12.8 MB\u001b[0m \u001b[31m52.6 MB/s\u001b[0m eta \u001b[36m0:00:00\u001b[0m\n",
            "\u001b[?25hRequirement already satisfied: spacy<3.8.0,>=3.7.2 in /usr/local/lib/python3.10/dist-packages (from en-core-web-sm==3.7.1) (3.7.5)\n",
            "Requirement already satisfied: spacy-legacy<3.1.0,>=3.0.11 in /usr/local/lib/python3.10/dist-packages (from spacy<3.8.0,>=3.7.2->en-core-web-sm==3.7.1) (3.0.12)\n",
            "Requirement already satisfied: spacy-loggers<2.0.0,>=1.0.0 in /usr/local/lib/python3.10/dist-packages (from spacy<3.8.0,>=3.7.2->en-core-web-sm==3.7.1) (1.0.5)\n",
            "Requirement already satisfied: murmurhash<1.1.0,>=0.28.0 in /usr/local/lib/python3.10/dist-packages (from spacy<3.8.0,>=3.7.2->en-core-web-sm==3.7.1) (1.0.10)\n",
            "Requirement already satisfied: cymem<2.1.0,>=2.0.2 in /usr/local/lib/python3.10/dist-packages (from spacy<3.8.0,>=3.7.2->en-core-web-sm==3.7.1) (2.0.8)\n",
            "Requirement already satisfied: preshed<3.1.0,>=3.0.2 in /usr/local/lib/python3.10/dist-packages (from spacy<3.8.0,>=3.7.2->en-core-web-sm==3.7.1) (3.0.9)\n",
            "Requirement already satisfied: thinc<8.3.0,>=8.2.2 in /usr/local/lib/python3.10/dist-packages (from spacy<3.8.0,>=3.7.2->en-core-web-sm==3.7.1) (8.2.5)\n",
            "Requirement already satisfied: wasabi<1.2.0,>=0.9.1 in /usr/local/lib/python3.10/dist-packages (from spacy<3.8.0,>=3.7.2->en-core-web-sm==3.7.1) (1.1.3)\n",
            "Requirement already satisfied: srsly<3.0.0,>=2.4.3 in /usr/local/lib/python3.10/dist-packages (from spacy<3.8.0,>=3.7.2->en-core-web-sm==3.7.1) (2.4.8)\n",
            "Requirement already satisfied: catalogue<2.1.0,>=2.0.6 in /usr/local/lib/python3.10/dist-packages (from spacy<3.8.0,>=3.7.2->en-core-web-sm==3.7.1) (2.0.10)\n",
            "Requirement already satisfied: weasel<0.5.0,>=0.1.0 in /usr/local/lib/python3.10/dist-packages (from spacy<3.8.0,>=3.7.2->en-core-web-sm==3.7.1) (0.4.1)\n",
            "Requirement already satisfied: typer<1.0.0,>=0.3.0 in /usr/local/lib/python3.10/dist-packages (from spacy<3.8.0,>=3.7.2->en-core-web-sm==3.7.1) (0.12.3)\n",
            "Requirement already satisfied: tqdm<5.0.0,>=4.38.0 in /usr/local/lib/python3.10/dist-packages (from spacy<3.8.0,>=3.7.2->en-core-web-sm==3.7.1) (4.66.5)\n",
            "Requirement already satisfied: requests<3.0.0,>=2.13.0 in /usr/local/lib/python3.10/dist-packages (from spacy<3.8.0,>=3.7.2->en-core-web-sm==3.7.1) (2.32.3)\n",
            "Requirement already satisfied: pydantic!=1.8,!=1.8.1,<3.0.0,>=1.7.4 in /usr/local/lib/python3.10/dist-packages (from spacy<3.8.0,>=3.7.2->en-core-web-sm==3.7.1) (2.8.2)\n",
            "Requirement already satisfied: jinja2 in /usr/local/lib/python3.10/dist-packages (from spacy<3.8.0,>=3.7.2->en-core-web-sm==3.7.1) (3.1.4)\n",
            "Requirement already satisfied: setuptools in /usr/local/lib/python3.10/dist-packages (from spacy<3.8.0,>=3.7.2->en-core-web-sm==3.7.1) (71.0.4)\n",
            "Requirement already satisfied: packaging>=20.0 in /usr/local/lib/python3.10/dist-packages (from spacy<3.8.0,>=3.7.2->en-core-web-sm==3.7.1) (24.1)\n",
            "Requirement already satisfied: langcodes<4.0.0,>=3.2.0 in /usr/local/lib/python3.10/dist-packages (from spacy<3.8.0,>=3.7.2->en-core-web-sm==3.7.1) (3.4.0)\n",
            "Requirement already satisfied: numpy>=1.19.0 in /usr/local/lib/python3.10/dist-packages (from spacy<3.8.0,>=3.7.2->en-core-web-sm==3.7.1) (1.26.4)\n",
            "Requirement already satisfied: language-data>=1.2 in /usr/local/lib/python3.10/dist-packages (from langcodes<4.0.0,>=3.2.0->spacy<3.8.0,>=3.7.2->en-core-web-sm==3.7.1) (1.2.0)\n",
            "Requirement already satisfied: annotated-types>=0.4.0 in /usr/local/lib/python3.10/dist-packages (from pydantic!=1.8,!=1.8.1,<3.0.0,>=1.7.4->spacy<3.8.0,>=3.7.2->en-core-web-sm==3.7.1) (0.7.0)\n",
            "Requirement already satisfied: pydantic-core==2.20.1 in /usr/local/lib/python3.10/dist-packages (from pydantic!=1.8,!=1.8.1,<3.0.0,>=1.7.4->spacy<3.8.0,>=3.7.2->en-core-web-sm==3.7.1) (2.20.1)\n",
            "Requirement already satisfied: typing-extensions>=4.6.1 in /usr/local/lib/python3.10/dist-packages (from pydantic!=1.8,!=1.8.1,<3.0.0,>=1.7.4->spacy<3.8.0,>=3.7.2->en-core-web-sm==3.7.1) (4.12.2)\n",
            "Requirement already satisfied: charset-normalizer<4,>=2 in /usr/local/lib/python3.10/dist-packages (from requests<3.0.0,>=2.13.0->spacy<3.8.0,>=3.7.2->en-core-web-sm==3.7.1) (3.3.2)\n",
            "Requirement already satisfied: idna<4,>=2.5 in /usr/local/lib/python3.10/dist-packages (from requests<3.0.0,>=2.13.0->spacy<3.8.0,>=3.7.2->en-core-web-sm==3.7.1) (3.7)\n",
            "Requirement already satisfied: urllib3<3,>=1.21.1 in /usr/local/lib/python3.10/dist-packages (from requests<3.0.0,>=2.13.0->spacy<3.8.0,>=3.7.2->en-core-web-sm==3.7.1) (2.0.7)\n",
            "Requirement already satisfied: certifi>=2017.4.17 in /usr/local/lib/python3.10/dist-packages (from requests<3.0.0,>=2.13.0->spacy<3.8.0,>=3.7.2->en-core-web-sm==3.7.1) (2024.7.4)\n",
            "Requirement already satisfied: blis<0.8.0,>=0.7.8 in /usr/local/lib/python3.10/dist-packages (from thinc<8.3.0,>=8.2.2->spacy<3.8.0,>=3.7.2->en-core-web-sm==3.7.1) (0.7.11)\n",
            "Requirement already satisfied: confection<1.0.0,>=0.0.1 in /usr/local/lib/python3.10/dist-packages (from thinc<8.3.0,>=8.2.2->spacy<3.8.0,>=3.7.2->en-core-web-sm==3.7.1) (0.1.5)\n",
            "Requirement already satisfied: click>=8.0.0 in /usr/local/lib/python3.10/dist-packages (from typer<1.0.0,>=0.3.0->spacy<3.8.0,>=3.7.2->en-core-web-sm==3.7.1) (8.1.7)\n",
            "Requirement already satisfied: shellingham>=1.3.0 in /usr/local/lib/python3.10/dist-packages (from typer<1.0.0,>=0.3.0->spacy<3.8.0,>=3.7.2->en-core-web-sm==3.7.1) (1.5.4)\n",
            "Requirement already satisfied: rich>=10.11.0 in /usr/local/lib/python3.10/dist-packages (from typer<1.0.0,>=0.3.0->spacy<3.8.0,>=3.7.2->en-core-web-sm==3.7.1) (13.7.1)\n",
            "Requirement already satisfied: cloudpathlib<1.0.0,>=0.7.0 in /usr/local/lib/python3.10/dist-packages (from weasel<0.5.0,>=0.1.0->spacy<3.8.0,>=3.7.2->en-core-web-sm==3.7.1) (0.18.1)\n",
            "Requirement already satisfied: smart-open<8.0.0,>=5.2.1 in /usr/local/lib/python3.10/dist-packages (from weasel<0.5.0,>=0.1.0->spacy<3.8.0,>=3.7.2->en-core-web-sm==3.7.1) (7.0.4)\n",
            "Requirement already satisfied: MarkupSafe>=2.0 in /usr/local/lib/python3.10/dist-packages (from jinja2->spacy<3.8.0,>=3.7.2->en-core-web-sm==3.7.1) (2.1.5)\n",
            "Requirement already satisfied: marisa-trie>=0.7.7 in /usr/local/lib/python3.10/dist-packages (from language-data>=1.2->langcodes<4.0.0,>=3.2.0->spacy<3.8.0,>=3.7.2->en-core-web-sm==3.7.1) (1.2.0)\n",
            "Requirement already satisfied: markdown-it-py>=2.2.0 in /usr/local/lib/python3.10/dist-packages (from rich>=10.11.0->typer<1.0.0,>=0.3.0->spacy<3.8.0,>=3.7.2->en-core-web-sm==3.7.1) (3.0.0)\n",
            "Requirement already satisfied: pygments<3.0.0,>=2.13.0 in /usr/local/lib/python3.10/dist-packages (from rich>=10.11.0->typer<1.0.0,>=0.3.0->spacy<3.8.0,>=3.7.2->en-core-web-sm==3.7.1) (2.16.1)\n",
            "Requirement already satisfied: wrapt in /usr/local/lib/python3.10/dist-packages (from smart-open<8.0.0,>=5.2.1->weasel<0.5.0,>=0.1.0->spacy<3.8.0,>=3.7.2->en-core-web-sm==3.7.1) (1.16.0)\n",
            "Requirement already satisfied: mdurl~=0.1 in /usr/local/lib/python3.10/dist-packages (from markdown-it-py>=2.2.0->rich>=10.11.0->typer<1.0.0,>=0.3.0->spacy<3.8.0,>=3.7.2->en-core-web-sm==3.7.1) (0.1.2)\n",
            "\u001b[38;5;2m✔ Download and installation successful\u001b[0m\n",
            "You can now load the package via spacy.load('en_core_web_sm')\n",
            "\u001b[38;5;3m⚠ Restart to reload dependencies\u001b[0m\n",
            "If you are in a Jupyter or Colab notebook, you may need to restart Python in\n",
            "order to load all the package's dependencies. You can do this by selecting the\n",
            "'Restart kernel' or 'Restart runtime' option.\n"
          ]
        }
      ]
    },
    {
      "cell_type": "code",
      "source": [
        "\n",
        "import spacy\n",
        "\n",
        "# Load English tokenizer, tagger, parser and NER\n",
        "nlp = spacy.load(\"en_core_web_sm\")\n",
        "\n",
        "# Process whole documents\n",
        "text = (\"When Sebastian Thrun started working on self-driving cars at \"\n",
        "        \"Google in 2007, few people outside of the company took him \"\n",
        "        \"seriously. “I can tell you very senior CEOs of major American \"\n",
        "        \"car companies would shake my hand and turn away because I wasn’t \"\n",
        "        \"worth talking to,” said Thrun, in an interview with Recode earlier \"\n",
        "        \"this week.\")\n",
        "doc = nlp(text)\n",
        "\n",
        "# Analyze syntax\n",
        "print(\"Noun phrases:\", [chunk.text for chunk in doc.noun_chunks])\n",
        "print(\"Verbs:\", [token.lemma_ for token in doc if token.pos_ == \"VERB\"])\n",
        "\n",
        "# Find named entities, phrases and concepts\n",
        "for entity in doc.ents:\n",
        "    print(entity.text, entity.label_)"
      ],
      "metadata": {
        "colab": {
          "base_uri": "https://localhost:8080/"
        },
        "id": "WOBOk-4CpYAP",
        "outputId": "7fbd2684-5b4e-49b6-df80-f34155f8f43c"
      },
      "execution_count": null,
      "outputs": [
        {
          "output_type": "stream",
          "name": "stdout",
          "text": [
            "Noun phrases: ['Sebastian Thrun', 'self-driving cars', 'Google', 'few people', 'the company', 'him', 'I', 'you', 'very senior CEOs', 'major American car companies', 'my hand', 'I', 'Thrun', 'an interview', 'Recode']\n",
            "Verbs: ['start', 'work', 'drive', 'take', 'tell', 'shake', 'turn', 'talk', 'say']\n",
            "Sebastian Thrun PERSON\n",
            "Google ORG\n",
            "2007 DATE\n",
            "American NORP\n",
            "Thrun PERSON\n",
            "Recode ORG\n",
            "earlier this week DATE\n"
          ]
        }
      ]
    },
    {
      "cell_type": "code",
      "source": [],
      "metadata": {
        "id": "Q4EHDn6pqbOf"
      },
      "execution_count": null,
      "outputs": []
    }
  ]
}